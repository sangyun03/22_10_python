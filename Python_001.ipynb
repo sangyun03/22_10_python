{
  "nbformat": 4,
  "nbformat_minor": 0,
  "metadata": {
    "colab": {
      "provenance": [],
      "authorship_tag": "ABX9TyM3QFiQqQCCuNv3JodWFcuy",
      "include_colab_link": true
    },
    "kernelspec": {
      "name": "python3",
      "display_name": "Python 3"
    },
    "language_info": {
      "name": "python"
    }
  },
  "cells": [
    {
      "cell_type": "markdown",
      "metadata": {
        "id": "view-in-github",
        "colab_type": "text"
      },
      "source": [
        "<a href=\"https://colab.research.google.com/github/sangyun03/22_10_python/blob/main/Python_001.ipynb\" target=\"_parent\"><img src=\"https://colab.research.google.com/assets/colab-badge.svg\" alt=\"Open In Colab\"/></a>"
      ]
    },
    {
      "cell_type": "markdown",
      "source": [
        "코랩과 깃헙의 첫번째 연결을 진행합니다."
      ],
      "metadata": {
        "id": "0-c4kOzlmmSX"
      }
    },
    {
      "cell_type": "code",
      "source": [
        "print(\"Hello Github\")\n",
        "print(\"Hello Python\")"
      ],
      "metadata": {
        "colab": {
          "base_uri": "https://localhost:8080/"
        },
        "id": "v0B9-ysImxss",
        "outputId": "e1632a95-0b50-4f9c-b349-f5e32e89817e"
      },
      "execution_count": 3,
      "outputs": [
        {
          "output_type": "stream",
          "name": "stdout",
          "text": [
            "Hello Github\n",
            "Hello Python\n"
          ]
        }
      ]
    }
  ]
}